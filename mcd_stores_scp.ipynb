{
 "cells": [
  {
   "cell_type": "code",
   "execution_count": 1,
   "metadata": {},
   "outputs": [],
   "source": [
    "import pandas as pd\n",
    "import requests\n",
    "from bs4 import BeautifulSoup"
   ]
  },
  {
   "cell_type": "code",
   "execution_count": 2,
   "metadata": {},
   "outputs": [],
   "source": [
    "# Data mining for list of all McDonalds stores in North and East India.\n",
    "# Source: mcdindia.com\n",
    "\n",
    "headers = {\n",
    "    'authority': 'mk0mcdonaldsindfqrur.kinstacdn.com',\n",
    "    'cache-control': 'max-age=0',\n",
    "    'sec-ch-ua': '\"Google Chrome\";v=\"89\", \"Chromium\";v=\"89\", \";Not A Brand\";v=\"99\"',\n",
    "    'sec-ch-ua-mobile': '?0',\n",
    "    'upgrade-insecure-requests': '1',\n",
    "    'user-agent': 'Mozilla/5.0 (Windows NT 10.0; Win64; x64) AppleWebKit/537.36 (KHTML, like Gecko) Chrome/89.0.4389.114 Safari/537.36',\n",
    "    'accept': 'image/avif,image/webp,image/apng,image/svg+xml,image/*,*/*;q=0.8',\n",
    "    'sec-fetch-site': 'cross-site',\n",
    "    'sec-fetch-mode': 'no-cors',\n",
    "    'sec-fetch-user': '?1',\n",
    "    'sec-fetch-dest': 'image',\n",
    "    'accept-language': 'en-US,en;q=0.9,en-GB;q=0.8',\n",
    "    'dnt': '1',\n",
    "    'sec-gpc': '1',\n",
    "    'Referer': 'https://mk0mcdonaldsindfqrur.kinstacdn.com/wp-content/cache/min/1/6f0793e0e20e81170d362eaa34f331d1.css',\n",
    "    'User-Agent': 'Mozilla/5.0 (Windows NT 10.0; Win64; x64) AppleWebKit/537.36 (KHTML, like Gecko) Chrome/89.0.4389.114 Safari/537.36',\n",
    "    'Origin': 'https://mcdindia.com',\n",
    "    'referer': 'https://mk0mcdonaldsindfqrur.kinstacdn.com/wp-content/cache/min/1/6f0793e0e20e81170d362eaa34f331d1.css',\n",
    "    'Upgrade-Insecure-Requests': '1',\n",
    "    'If-None-Match': '\"7757U3yUJtOQign6O5Ji55SURec=\"',\n",
    "}\n",
    "\n",
    "response = requests.get('https://mcdindia.com/', headers=headers)\n"
   ]
  },
  {
   "cell_type": "code",
   "execution_count": 12,
   "metadata": {},
   "outputs": [
    {
     "data": {
      "text/plain": [
       ""
      ]
     },
     "execution_count": 12,
     "metadata": {},
     "output_type": "execute_result"
    }
   ],
   "source": [
    "pwd"
   ]
  },
  {
   "cell_type": "code",
   "execution_count": 3,
   "metadata": {},
   "outputs": [],
   "source": [
    "html = response.text\n",
    "soup = BeautifulSoup(html, 'html.parser')"
   ]
  },
  {
   "cell_type": "code",
   "execution_count": 4,
   "metadata": {},
   "outputs": [],
   "source": [
    "content = soup.find_all('div', {\"class\":\"store-item Open\"})"
   ]
  },
  {
   "cell_type": "code",
   "execution_count": 7,
   "metadata": {},
   "outputs": [],
   "source": [
    "storeList = []\n",
    "for item in content:\n",
    "    listingDict = {}\n",
    "    listingDict['city'] = item['data-city']\n",
    "    listingDict['storeType'] = item['data-storetype']\n",
    "    listingDict['address'] = item.p.text\n",
    "    listingDict['telephone'] = item.find_all('a')[0]['href'][4:]\n",
    "    listingDict['geolocation'] = item.find_all('a')[1]['href']\n",
    "    listingDict['dineIn'] = item.find_all('span',{\"class\":\"status-text\"})[0].text\n",
    "    listingDict['delivery'] = item.find_all('span',{\"class\":\"status-text\"})[1].text\n",
    "    storeList.append(listingDict)"
   ]
  },
  {
   "cell_type": "code",
   "execution_count": 10,
   "metadata": {},
   "outputs": [],
   "source": [
    "mcd_stores = pd.DataFrame(storeList)\n",
    "mcd_stores.to_csv('mcd_stores_in_NE_india.csv', index=False)"
   ]
  },
  {
   "cell_type": "code",
   "execution_count": null,
   "metadata": {},
   "outputs": [],
   "source": []
  }
 ],
 "metadata": {
  "kernelspec": {
   "display_name": "Python 3",
   "language": "python",
   "name": "python3"
  },
  "language_info": {
   "codemirror_mode": {
    "name": "ipython",
    "version": 3
   },
   "file_extension": ".py",
   "mimetype": "text/x-python",
   "name": "python",
   "nbconvert_exporter": "python",
   "pygments_lexer": "ipython3",
   "version": "3.8.5"
  }
 },
 "nbformat": 4,
 "nbformat_minor": 4
}
