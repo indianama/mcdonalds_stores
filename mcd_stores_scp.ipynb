{
 "cells": [
  {
   "cell_type": "markdown",
   "metadata": {
    "toc": true
   },
   "source": [
    "<h1>Contents<span class=\"tocSkip\"></span></h1>\n",
    "<div class=\"toc\"><ul class=\"toc-item\"><li><span><a href=\"#Premise\" data-toc-modified-id=\"Premise-1\"><span class=\"toc-item-num\">1&nbsp;&nbsp;</span>Premise</a></span></li><li><span><a href=\"#Imports\" data-toc-modified-id=\"Imports-2\"><span class=\"toc-item-num\">2&nbsp;&nbsp;</span>Imports</a></span></li><li><span><a href=\"#Headers-and-Var-Setup\" data-toc-modified-id=\"Headers-and-Var-Setup-3\"><span class=\"toc-item-num\">3&nbsp;&nbsp;</span>Headers and Var Setup</a></span></li><li><span><a href=\"#Scraping-The-Data\" data-toc-modified-id=\"Scraping-The-Data-4\"><span class=\"toc-item-num\">4&nbsp;&nbsp;</span>Scraping The Data</a></span></li><li><span><a href=\"#Viewing-the-Scraped-Data\" data-toc-modified-id=\"Viewing-the-Scraped-Data-5\"><span class=\"toc-item-num\">5&nbsp;&nbsp;</span>Viewing the Scraped Data</a></span></li><li><span><a href=\"#Links\" data-toc-modified-id=\"Links-6\"><span class=\"toc-item-num\">6&nbsp;&nbsp;</span>Links</a></span></li></ul></div>"
   ]
  },
  {
   "cell_type": "markdown",
   "metadata": {},
   "source": [
    "# Premise"
   ]
  },
  {
   "cell_type": "markdown",
   "metadata": {},
   "source": [
    "Mcdonald's India is divided into two entities:\n",
    "* Connaught Plaza Restaurants Private Limited: North & East,\n",
    "* Hardcastle Restaurants Private Limited: South & West.\n",
    "\n",
    "This notebook scrapes the data for the **North & East** from the official [website](mcdindia.com)."
   ]
  },
  {
   "cell_type": "markdown",
   "metadata": {},
   "source": [
    "# Imports"
   ]
  },
  {
   "cell_type": "markdown",
   "metadata": {},
   "source": [
    "We will be using BeautifulSoup to scrape the data and pandas to store the scraped data."
   ]
  },
  {
   "cell_type": "code",
   "execution_count": 1,
   "metadata": {},
   "outputs": [],
   "source": [
    "import pandas as pd\n",
    "import requests\n",
    "from bs4 import BeautifulSoup"
   ]
  },
  {
   "cell_type": "markdown",
   "metadata": {},
   "source": [
    "# Headers and Var Setup"
   ]
  },
  {
   "cell_type": "markdown",
   "metadata": {},
   "source": [
    "Headers can be set via copying from Firefox or any other browser of your choice. Setting headers like this will help you to emulate the browser to the server."
   ]
  },
  {
   "cell_type": "code",
   "execution_count": 2,
   "metadata": {},
   "outputs": [],
   "source": [
    "headers = {\n",
    "    'authority': 'mk0mcdonaldsindfqrur.kinstacdn.com',\n",
    "    'cache-control': 'max-age=0',\n",
    "    'sec-ch-ua': '\"Google Chrome\";v=\"89\", \"Chromium\";v=\"89\", \";Not A Brand\";v=\"99\"',\n",
    "    'sec-ch-ua-mobile': '?0',\n",
    "    'upgrade-insecure-requests': '1',\n",
    "    'user-agent': 'Mozilla/5.0 (Windows NT 10.0; Win64; x64) AppleWebKit/537.36 (KHTML, like Gecko) Chrome/89.0.4389.114 Safari/537.36',\n",
    "    'accept': 'image/avif,image/webp,image/apng,image/svg+xml,image/*,*/*;q=0.8',\n",
    "    'sec-fetch-site': 'cross-site',\n",
    "    'sec-fetch-mode': 'no-cors',\n",
    "    'sec-fetch-user': '?1',\n",
    "    'sec-fetch-dest': 'image',\n",
    "    'accept-language': 'en-US,en;q=0.9,en-GB;q=0.8',\n",
    "    'dnt': '1',\n",
    "    'sec-gpc': '1',\n",
    "    'Referer': 'https://mk0mcdonaldsindfqrur.kinstacdn.com/wp-content/cache/min/1/6f0793e0e20e81170d362eaa34f331d1.css',\n",
    "    'User-Agent': 'Mozilla/5.0 (Windows NT 10.0; Win64; x64) AppleWebKit/537.36 (KHTML, like Gecko) Chrome/89.0.4389.114 Safari/537.36',\n",
    "    'Origin': 'https://mcdindia.com',\n",
    "    'referer': 'https://mk0mcdonaldsindfqrur.kinstacdn.com/wp-content/cache/min/1/6f0793e0e20e81170d362eaa34f331d1.css',\n",
    "    'Upgrade-Insecure-Requests': '1',\n",
    "    'If-None-Match': '\"7757U3yUJtOQign6O5Ji55SURec=\"',\n",
    "}"
   ]
  },
  {
   "cell_type": "markdown",
   "metadata": {},
   "source": [
    "# Scraping The Data"
   ]
  },
  {
   "cell_type": "markdown",
   "metadata": {},
   "source": [
    "The response variable will store the contents of response received."
   ]
  },
  {
   "cell_type": "code",
   "execution_count": null,
   "metadata": {},
   "outputs": [],
   "source": [
    "response = requests.get('https://mcdindia.com/', headers=headers)"
   ]
  },
  {
   "cell_type": "code",
   "execution_count": 3,
   "metadata": {},
   "outputs": [],
   "source": [
    "html = response.text\n",
    "soup = BeautifulSoup(html, 'html.parser')"
   ]
  },
  {
   "cell_type": "code",
   "execution_count": 4,
   "metadata": {},
   "outputs": [],
   "source": [
    "content = soup.find_all('div', {\"class\":\"store-item Open\"})"
   ]
  },
  {
   "cell_type": "markdown",
   "metadata": {},
   "source": [
    "By using a dictionary to all the matching 'divs' we can convert to a pandas dataframe."
   ]
  },
  {
   "cell_type": "code",
   "execution_count": 5,
   "metadata": {},
   "outputs": [],
   "source": [
    "storeList = []\n",
    "for item in content:\n",
    "    listingDict = {}\n",
    "    listingDict['city'] = item['data-city']\n",
    "    listingDict['storeType'] = item['data-storetype']\n",
    "    listingDict['address'] = item.p.text\n",
    "    listingDict['telephone'] = item.find_all('a')[0]['href'][4:]\n",
    "    listingDict['geolocation'] = item.find_all('a')[1]['href']\n",
    "    listingDict['dineIn'] = item.find_all('span',{\"class\":\"status-text\"})[0].text\n",
    "    listingDict['delivery'] = item.find_all('span',{\"class\":\"status-text\"})[1].text\n",
    "    storeList.append(listingDict)"
   ]
  },
  {
   "cell_type": "code",
   "execution_count": 6,
   "metadata": {},
   "outputs": [],
   "source": [
    "mcd_stores = pd.DataFrame(storeList)\n",
    "mcd_stores.to_csv('mcd_stores_in_NE_india.csv', index=False)"
   ]
  },
  {
   "cell_type": "markdown",
   "metadata": {},
   "source": [
    "# Viewing the Scraped Data"
   ]
  },
  {
   "cell_type": "code",
   "execution_count": 56,
   "metadata": {},
   "outputs": [
    {
     "data": {
      "text/html": [
       "<div>\n",
       "<style scoped>\n",
       "    .dataframe tbody tr th:only-of-type {\n",
       "        vertical-align: middle;\n",
       "    }\n",
       "\n",
       "    .dataframe tbody tr th {\n",
       "        vertical-align: top;\n",
       "    }\n",
       "\n",
       "    .dataframe thead th {\n",
       "        text-align: right;\n",
       "    }\n",
       "</style>\n",
       "<table border=\"1\" class=\"dataframe\">\n",
       "  <thead>\n",
       "    <tr style=\"text-align: right;\">\n",
       "      <th></th>\n",
       "      <th>city</th>\n",
       "      <th>storeType</th>\n",
       "      <th>address</th>\n",
       "      <th>telephone</th>\n",
       "      <th>geolocation</th>\n",
       "      <th>dineIn</th>\n",
       "      <th>delivery</th>\n",
       "    </tr>\n",
       "  </thead>\n",
       "  <tbody>\n",
       "    <tr>\n",
       "      <th>0</th>\n",
       "      <td>Faridabad</td>\n",
       "      <td>Kiosk, Delivery</td>\n",
       "      <td>1-2, SRS World, GF City Centre, Sector-12, Far...</td>\n",
       "      <td>9873400698</td>\n",
       "      <td>https://goo.gl/maps/teguuGjf9AkE29iz6</td>\n",
       "      <td>Open</td>\n",
       "      <td>Open</td>\n",
       "    </tr>\n",
       "    <tr>\n",
       "      <th>1</th>\n",
       "      <td>Bhatinda</td>\n",
       "      <td>Breakfast Store, Drive-Thru</td>\n",
       "      <td>12, Village Bhucho Kalan. Tehsil Nathana, Dist...</td>\n",
       "      <td>8283888099</td>\n",
       "      <td>https://goo.gl/maps/CTQEoZdQCP9yizWW9</td>\n",
       "      <td>Open</td>\n",
       "      <td>Open</td>\n",
       "    </tr>\n",
       "    <tr>\n",
       "      <th>2</th>\n",
       "      <td>Rohtak</td>\n",
       "      <td>Delivery</td>\n",
       "      <td>1238-1284 (P), Ward No. 29, Delhi Road. Opp. T...</td>\n",
       "      <td>8295876611</td>\n",
       "      <td>https://goo.gl/maps/47WQvEYfGGdFcmUL9</td>\n",
       "      <td>Open</td>\n",
       "      <td>Open</td>\n",
       "    </tr>\n",
       "    <tr>\n",
       "      <th>3</th>\n",
       "      <td>Delhi</td>\n",
       "      <td>Breakfast Store, Kiosk, Delivery</td>\n",
       "      <td>15, Ground Floor, Shop no:- 3, Sector:- 5, Raj...</td>\n",
       "      <td>9899730908</td>\n",
       "      <td>https://goo.gl/maps/aowwMoEDAoj4Xea57</td>\n",
       "      <td>Open</td>\n",
       "      <td>Open</td>\n",
       "    </tr>\n",
       "    <tr>\n",
       "      <th>4</th>\n",
       "      <td>Delhi</td>\n",
       "      <td>Delivery</td>\n",
       "      <td>16, Manglam Palace, DDA Central Market Sector-...</td>\n",
       "      <td>9899795814</td>\n",
       "      <td>https://goo.gl/maps/EuvM6yi1SyhL55eaA</td>\n",
       "      <td>Open</td>\n",
       "      <td>Open</td>\n",
       "    </tr>\n",
       "    <tr>\n",
       "      <th>5</th>\n",
       "      <td>Delhi</td>\n",
       "      <td>Kiosk, Delivery</td>\n",
       "      <td>17A, Regal Building. Connaught Place. New Delh...</td>\n",
       "      <td>9873162936</td>\n",
       "      <td>https://goo.gl/maps/U9isTtTGbzppVK7m7</td>\n",
       "      <td>Open</td>\n",
       "      <td>Open</td>\n",
       "    </tr>\n",
       "    <tr>\n",
       "      <th>6</th>\n",
       "      <td>Kurukshetra</td>\n",
       "      <td>Delivery, Birthday Store</td>\n",
       "      <td>1st Floor. Block No. A, Divine B'ness Park. Op...</td>\n",
       "      <td>9996546611</td>\n",
       "      <td>https://goo.gl/maps/6kSBEPKL3pDq7oot5</td>\n",
       "      <td>Open</td>\n",
       "      <td>Open</td>\n",
       "    </tr>\n",
       "    <tr>\n",
       "      <th>7</th>\n",
       "      <td>Delhi</td>\n",
       "      <td>Extended Hours, Delivery</td>\n",
       "      <td>2, Community Centre, Saket, New Delhi- 110017</td>\n",
       "      <td>9899795802</td>\n",
       "      <td>https://goo.gl/maps/StvwwvrTtL3DwnTA7</td>\n",
       "      <td>Open</td>\n",
       "      <td>Open</td>\n",
       "    </tr>\n",
       "    <tr>\n",
       "      <th>8</th>\n",
       "      <td>Delhi</td>\n",
       "      <td>Breakfast Store, Delivery, Birthday Store</td>\n",
       "      <td>23 West Punjabi Bagh. Central Market , New Del...</td>\n",
       "      <td>9899795807</td>\n",
       "      <td>https://goo.gl/maps/BYyqhyBX9EYxhczx6</td>\n",
       "      <td>Open</td>\n",
       "      <td>Open</td>\n",
       "    </tr>\n",
       "    <tr>\n",
       "      <th>9</th>\n",
       "      <td>Aligarh</td>\n",
       "      <td>Delivery, Birthday Store</td>\n",
       "      <td>3/ 106A- I, Ground Floor &amp; First Floor, Hem Ch...</td>\n",
       "      <td>7409885888</td>\n",
       "      <td>https://goo.gl/maps/8efV881ALyzn5Mqe8</td>\n",
       "      <td>Open</td>\n",
       "      <td>Open</td>\n",
       "    </tr>\n",
       "    <tr>\n",
       "      <th>10</th>\n",
       "      <td>Delhi</td>\n",
       "      <td>Breakfast Store, Kiosk, Delivery</td>\n",
       "      <td>30/4, 30/4A, Double Storey. Ashok Nagar, Tehar...</td>\n",
       "      <td>8376902651</td>\n",
       "      <td>https://goo.gl/maps/B9xkagtgRkGfUrqa6</td>\n",
       "      <td>Open</td>\n",
       "      <td>Open</td>\n",
       "    </tr>\n",
       "    <tr>\n",
       "      <th>11</th>\n",
       "      <td>Dehradun</td>\n",
       "      <td>Delivery, Birthday Store</td>\n",
       "      <td>3rd Astley Hall, Rajpur Road, Dehradun-248001</td>\n",
       "      <td>9719401785</td>\n",
       "      <td>https://goo.gl/maps/WWiecYyUFS7RXbee6</td>\n",
       "      <td>Open</td>\n",
       "      <td>Open</td>\n",
       "    </tr>\n",
       "    <tr>\n",
       "      <th>12</th>\n",
       "      <td>Delhi</td>\n",
       "      <td>Breakfast Store, Delivery</td>\n",
       "      <td>42, Janpath, Tolstoy Marg, New Delhi- 110001</td>\n",
       "      <td>9711882133</td>\n",
       "      <td>https://goo.gl/maps/XWXNNJjDfPjTTjNF8</td>\n",
       "      <td>Open</td>\n",
       "      <td>Open</td>\n",
       "    </tr>\n",
       "    <tr>\n",
       "      <th>13</th>\n",
       "      <td>Delhi</td>\n",
       "      <td>Breakfast Store, Extended Hours, Delivery</td>\n",
       "      <td>47, Basant Lok, Community Centre, Vasant Vihar...</td>\n",
       "      <td>9899795811</td>\n",
       "      <td>https://goo.gl/maps/QBWwF3jEDFjussUH6</td>\n",
       "      <td>Open</td>\n",
       "      <td>Open</td>\n",
       "    </tr>\n",
       "    <tr>\n",
       "      <th>14</th>\n",
       "      <td>Delhi</td>\n",
       "      <td>Kiosk, Delivery</td>\n",
       "      <td>5/76, West Ajmal Khan, Padam Singh, Karol Bagh...</td>\n",
       "      <td>9899795804</td>\n",
       "      <td>https://goo.gl/maps/45tmApQVQZ1b7jMB6</td>\n",
       "      <td>Open</td>\n",
       "      <td>Open</td>\n",
       "    </tr>\n",
       "    <tr>\n",
       "      <th>15</th>\n",
       "      <td>Delhi</td>\n",
       "      <td>Delivery</td>\n",
       "      <td>6A-6B, Sonia Cinema Complex, Vikas Puri, New D...</td>\n",
       "      <td>9899795810</td>\n",
       "      <td>https://goo.gl/maps/6e4y761c2UtqFP9z7</td>\n",
       "      <td>Open</td>\n",
       "      <td>Open</td>\n",
       "    </tr>\n",
       "    <tr>\n",
       "      <th>16</th>\n",
       "      <td>Noida</td>\n",
       "      <td>Breakfast Store, Drive-Thru, Delivery</td>\n",
       "      <td>A-79 A, Sector- 16, Savoy Suits, Noida-201301</td>\n",
       "      <td>9899795813</td>\n",
       "      <td>https://goo.gl/maps/H41Eoha6Z2gHxrPQ8</td>\n",
       "      <td>Open</td>\n",
       "      <td>Open</td>\n",
       "    </tr>\n",
       "    <tr>\n",
       "      <th>17</th>\n",
       "      <td>Bhiwadi</td>\n",
       "      <td>Breakfast Store, Drive-Thru, Delivery, Birthda...</td>\n",
       "      <td>Aashiana Aagan Housing Society, Village Saidpu...</td>\n",
       "      <td>8875022255</td>\n",
       "      <td>https://goo.gl/maps/1m717zsMDVCnkPA86</td>\n",
       "      <td>Open</td>\n",
       "      <td>Open</td>\n",
       "    </tr>\n",
       "    <tr>\n",
       "      <th>18</th>\n",
       "      <td>Noida</td>\n",
       "      <td>Breakfast Store, Delivery</td>\n",
       "      <td>Advant IT Park, Plot No.7. Sector-142, Noida- ...</td>\n",
       "      <td>7838073348</td>\n",
       "      <td>https://goo.gl/maps/uxmjCUsxB7qYsThD7</td>\n",
       "      <td>Open</td>\n",
       "      <td>Open</td>\n",
       "    </tr>\n",
       "    <tr>\n",
       "      <th>19</th>\n",
       "      <td>Noida</td>\n",
       "      <td>Kiosk, Delivery, Birthday Store</td>\n",
       "      <td>AF 63/64 &amp; GF 60, Ansal Plaza, Sector Institut...</td>\n",
       "      <td>9873162934</td>\n",
       "      <td>https://goo.gl/maps/otNdQnbJWcoQWXZa9</td>\n",
       "      <td>Open</td>\n",
       "      <td>Open</td>\n",
       "    </tr>\n",
       "  </tbody>\n",
       "</table>\n",
       "</div>"
      ],
      "text/plain": [
       "           city                                          storeType  \\\n",
       "0     Faridabad                                    Kiosk, Delivery   \n",
       "1      Bhatinda                        Breakfast Store, Drive-Thru   \n",
       "2        Rohtak                                           Delivery   \n",
       "3         Delhi                   Breakfast Store, Kiosk, Delivery   \n",
       "4         Delhi                                           Delivery   \n",
       "5         Delhi                                    Kiosk, Delivery   \n",
       "6   Kurukshetra                           Delivery, Birthday Store   \n",
       "7         Delhi                           Extended Hours, Delivery   \n",
       "8         Delhi          Breakfast Store, Delivery, Birthday Store   \n",
       "9       Aligarh                           Delivery, Birthday Store   \n",
       "10        Delhi                   Breakfast Store, Kiosk, Delivery   \n",
       "11     Dehradun                           Delivery, Birthday Store   \n",
       "12        Delhi                          Breakfast Store, Delivery   \n",
       "13        Delhi          Breakfast Store, Extended Hours, Delivery   \n",
       "14        Delhi                                    Kiosk, Delivery   \n",
       "15        Delhi                                           Delivery   \n",
       "16        Noida              Breakfast Store, Drive-Thru, Delivery   \n",
       "17      Bhiwadi  Breakfast Store, Drive-Thru, Delivery, Birthda...   \n",
       "18        Noida                          Breakfast Store, Delivery   \n",
       "19        Noida                    Kiosk, Delivery, Birthday Store   \n",
       "\n",
       "                                              address   telephone  \\\n",
       "0   1-2, SRS World, GF City Centre, Sector-12, Far...  9873400698   \n",
       "1   12, Village Bhucho Kalan. Tehsil Nathana, Dist...  8283888099   \n",
       "2   1238-1284 (P), Ward No. 29, Delhi Road. Opp. T...  8295876611   \n",
       "3   15, Ground Floor, Shop no:- 3, Sector:- 5, Raj...  9899730908   \n",
       "4   16, Manglam Palace, DDA Central Market Sector-...  9899795814   \n",
       "5   17A, Regal Building. Connaught Place. New Delh...  9873162936   \n",
       "6   1st Floor. Block No. A, Divine B'ness Park. Op...  9996546611   \n",
       "7       2, Community Centre, Saket, New Delhi- 110017  9899795802   \n",
       "8   23 West Punjabi Bagh. Central Market , New Del...  9899795807   \n",
       "9   3/ 106A- I, Ground Floor & First Floor, Hem Ch...  7409885888   \n",
       "10  30/4, 30/4A, Double Storey. Ashok Nagar, Tehar...  8376902651   \n",
       "11      3rd Astley Hall, Rajpur Road, Dehradun-248001  9719401785   \n",
       "12       42, Janpath, Tolstoy Marg, New Delhi- 110001  9711882133   \n",
       "13  47, Basant Lok, Community Centre, Vasant Vihar...  9899795811   \n",
       "14  5/76, West Ajmal Khan, Padam Singh, Karol Bagh...  9899795804   \n",
       "15  6A-6B, Sonia Cinema Complex, Vikas Puri, New D...  9899795810   \n",
       "16      A-79 A, Sector- 16, Savoy Suits, Noida-201301  9899795813   \n",
       "17  Aashiana Aagan Housing Society, Village Saidpu...  8875022255   \n",
       "18  Advant IT Park, Plot No.7. Sector-142, Noida- ...  7838073348   \n",
       "19  AF 63/64 & GF 60, Ansal Plaza, Sector Institut...  9873162934   \n",
       "\n",
       "                              geolocation dineIn delivery  \n",
       "0   https://goo.gl/maps/teguuGjf9AkE29iz6   Open     Open  \n",
       "1   https://goo.gl/maps/CTQEoZdQCP9yizWW9   Open     Open  \n",
       "2   https://goo.gl/maps/47WQvEYfGGdFcmUL9   Open     Open  \n",
       "3   https://goo.gl/maps/aowwMoEDAoj4Xea57   Open     Open  \n",
       "4   https://goo.gl/maps/EuvM6yi1SyhL55eaA   Open     Open  \n",
       "5   https://goo.gl/maps/U9isTtTGbzppVK7m7   Open     Open  \n",
       "6   https://goo.gl/maps/6kSBEPKL3pDq7oot5   Open     Open  \n",
       "7   https://goo.gl/maps/StvwwvrTtL3DwnTA7   Open     Open  \n",
       "8   https://goo.gl/maps/BYyqhyBX9EYxhczx6   Open     Open  \n",
       "9   https://goo.gl/maps/8efV881ALyzn5Mqe8   Open     Open  \n",
       "10  https://goo.gl/maps/B9xkagtgRkGfUrqa6   Open     Open  \n",
       "11  https://goo.gl/maps/WWiecYyUFS7RXbee6   Open     Open  \n",
       "12  https://goo.gl/maps/XWXNNJjDfPjTTjNF8   Open     Open  \n",
       "13  https://goo.gl/maps/QBWwF3jEDFjussUH6   Open     Open  \n",
       "14  https://goo.gl/maps/45tmApQVQZ1b7jMB6   Open     Open  \n",
       "15  https://goo.gl/maps/6e4y761c2UtqFP9z7   Open     Open  \n",
       "16  https://goo.gl/maps/H41Eoha6Z2gHxrPQ8   Open     Open  \n",
       "17  https://goo.gl/maps/1m717zsMDVCnkPA86   Open     Open  \n",
       "18  https://goo.gl/maps/uxmjCUsxB7qYsThD7   Open     Open  \n",
       "19  https://goo.gl/maps/otNdQnbJWcoQWXZa9   Open     Open  "
      ]
     },
     "execution_count": 56,
     "metadata": {},
     "output_type": "execute_result"
    }
   ],
   "source": [
    "mcd_stores.head(20)"
   ]
  },
  {
   "cell_type": "markdown",
   "metadata": {},
   "source": [
    "Curiously, we can see that McDonald's outlets in North and East are focussed around Delhi and surrounding areas."
   ]
  },
  {
   "cell_type": "code",
   "execution_count": 65,
   "metadata": {
    "scrolled": false
   },
   "outputs": [
    {
     "data": {
      "text/plain": [
       "Delhi         38\n",
       "Gurugram      10\n",
       "Noida          7\n",
       "Chandigarh     5\n",
       "Ghaziabad      4\n",
       "Faridabad      3\n",
       "Jaipur         3\n",
       "Lucknow        3\n",
       "Jalandhar      3\n",
       "Name: city, dtype: int64"
      ]
     },
     "execution_count": 65,
     "metadata": {},
     "output_type": "execute_result"
    }
   ],
   "source": [
    "mcd_stores['city'].value_counts()[mcd_stores['city'].value_counts()> 2]"
   ]
  },
  {
   "cell_type": "markdown",
   "metadata": {},
   "source": [
    "# Links"
   ]
  },
  {
   "cell_type": "markdown",
   "metadata": {},
   "source": [
    "[Github for repo](https://github.com/indianama/mcdonalds_stores)"
   ]
  }
 ],
 "metadata": {
  "kernelspec": {
   "display_name": "Python 3",
   "language": "python",
   "name": "python3"
  },
  "language_info": {
   "codemirror_mode": {
    "name": "ipython",
    "version": 3
   },
   "file_extension": ".py",
   "mimetype": "text/x-python",
   "name": "python",
   "nbconvert_exporter": "python",
   "pygments_lexer": "ipython3",
   "version": "3.7.10"
  },
  "toc": {
   "base_numbering": 1,
   "nav_menu": {},
   "number_sections": true,
   "sideBar": true,
   "skip_h1_title": false,
   "title_cell": "Contents",
   "title_sidebar": "Contents",
   "toc_cell": true,
   "toc_position": {},
   "toc_section_display": true,
   "toc_window_display": false
  }
 },
 "nbformat": 4,
 "nbformat_minor": 4
}
